{
 "cells": [
  {
   "cell_type": "code",
   "execution_count": 1,
   "metadata": {
    "collapsed": false
   },
   "outputs": [
    {
     "name": "stdout",
     "output_type": "stream",
     "text": [
      "['No', 'GPA', 'Years of work experience', 'Latest salary (per year)', 'Highest GPA ', 'Lowest GPA', 'Coops/Internships (YN)', 'Number of contacts on Linkedin', 'Expected Salary after graduation']\n",
      "['1', '3.5', '2.5', '45000', '3.5', '3.5', 'N', '250', '90000']\n",
      "['3', '3.8', '1', '65000', '3.6', '3', 'Y', '400', '100000']\n",
      "['4', '3.8', '2', '85000', '4', '3.6', 'Y', '500', '90000']\n",
      "['5', '3.41', '1.5', '10000', '3.41', '3.33', 'N', '365', '100000']\n",
      "['6', '3.33', '5', '70000', '3.67', '3', 'Y', '400', '100000']\n",
      "['7', '3.52', '2.5', '27000', '3.58', '3.52', 'N', '230', '85000']\n",
      "['8', '3.5', '2', '40000', '3.7', '3.3', 'N', '250', '90000']\n",
      "['9', '3.5', '5', '75000', '3.53', '3.3', 'Y', '260', '100000']\n",
      "['10', '3.6', '2.5', '65000', '3.9', '3.1', 'Y', '250', '110000']\n",
      "['11', '3.2', '4', '62000', '3.8', '3', 'N', '525', '105000']\n",
      "['12', '3.5', '2', '60000', '3.5', '3.5', 'N', '400', '85000']\n",
      "['13', '3.67', '1.8', '60000', '4', '3', 'N', '920', '140000']\n",
      "['14', '3.5', '2', '60000', '3.7', '3.3', 'y', '300', '90000']\n",
      "['15', '3.47', '2.5', '70000', '3.64', '3.37', 'Y', '310', '95000']\n",
      "['16', '3.06', '1.3', '40000', '3.64', '2.67', 'Y', '550', '120000']\n",
      "['17', '3.27', '2', '60000', '4', '3', 'Y', '350', '100000']\n",
      "['18', '3.53', '4', '50000', '4', '3.3', 'N', '600', '88000']\n",
      "['19', '4', '4', '50000', '4', '4', 'Y', '500', '130000']\n",
      "['20', '3.4', '1', '30000', '3.6', '3.1', 'N', '500', '80000']\n",
      "['21', '3.54', '1', '40000', '4', '3.42', 'Y', '650', '95000']\n",
      "['22', '3.5', '2', '75000', '4', '3', 'Y', '515', '80000']\n",
      "['23', '3.5', '4', '50000', '3.8', '3.2', 'Y', '350', '110000']\n",
      "['24', '3.4', '3', '50000', '3.8', '3.2', 'Y', '301', '90000']\n",
      "['25', '3.93', '5', '', '', '', '', '', '']\n",
      "['26', '3.3', '4', '65000', '4', '3.65', 'Y', '700', '100000']\n",
      "['27', '3.9', '6', '90000', '4', '3.8', 'Y', '809', '120000']\n",
      "['28', '3.17', '1', '50000', '3.3', '3', 'N', '258', '100000']\n",
      "['29', '3.48', '3.5', '60000', '4', '3.33', 'Y', '350', '100000']\n",
      "['30', '3.93', '4', '43000', '4', '3.28', 'Y', '900', '100000']\n",
      "['31', '3.43', '4', '60000', '3.5', '3.3', 'Y', '220', '110000']\n",
      "['32', '3.33', '5', '5000', '3.66', '3', 'Y', '183', '100000']\n",
      "['33', '3.6', '1.5', '60000', '3.7', '3.4', 'Y', '340', '100000']\n",
      "['34', '3.8', '3', '65000', '3.8', '3.5', 'Y', '800', '80000']\n",
      "['35', '3.5', '3', '65000', '4', '3.6', 'Y', '400', '80000']\n",
      "['36', '3.39', '2', '60000', '3.8', '3.2', 'Y', '500', '90000']\n"
     ]
    }
   ],
   "source": [
    "import csv\n",
    "f = open('ClassData.csv', 'r')\n",
    "reader = csv.reader(f)\n",
    "for row in reader:\n",
    "    print(row)"
   ]
  },
  {
   "cell_type": "code",
   "execution_count": 8,
   "metadata": {
    "collapsed": false
   },
   "outputs": [
    {
     "name": "stdout",
     "output_type": "stream",
     "text": [
      "3.5\n",
      "3.521714285714287\n",
      "3.06\n",
      "4.0\n"
     ]
    }
   ],
   "source": [
    "import pandas as pd\n",
    "df = pd.read_csv('ClassData.csv')\n",
    "df2=df['GPA']\n",
    "print(df2.median())\n",
    "print(df2.mean())\n",
    "print(df2.min())\n",
    "print(df2.max())"
   ]
  },
  {
   "cell_type": "code",
   "execution_count": 7,
   "metadata": {
    "collapsed": false
   },
   "outputs": [
    {
     "name": "stdout",
     "output_type": "stream",
     "text": [
      "2.874285714285714\n",
      "2.5\n",
      "1.0\n",
      "6.0\n"
     ]
    }
   ],
   "source": [
    "import pandas as pd\n",
    "df = pd.read_csv('ClassData.csv')\n",
    "df2=df['Years of work experience']\n",
    "print(df2.mean())\n",
    "print(df2.median())\n",
    "print(df2.min())\n",
    "print(df2.max())"
   ]
  },
  {
   "cell_type": "code",
   "execution_count": 4,
   "metadata": {
    "collapsed": false
   },
   "outputs": [
    {
     "name": "stdout",
     "output_type": "stream",
     "text": [
      "    No   GPA  Years of work experience  Latest salary (per year)  \\\n",
      "9   11  3.20                       4.0                   62000.0   \n",
      "11  13  3.67                       1.8                   60000.0   \n",
      "14  16  3.06                       1.3                   40000.0   \n",
      "16  18  3.53                       4.0                   50000.0   \n",
      "19  21  3.54                       1.0                   40000.0   \n",
      "20  22  3.50                       2.0                   75000.0   \n",
      "24  26  3.30                       4.0                   65000.0   \n",
      "25  27  3.90                       6.0                   90000.0   \n",
      "28  30  3.93                       4.0                   43000.0   \n",
      "32  34  3.80                       3.0                   65000.0   \n",
      "\n",
      "    Highest GPA   Lowest GPA Coops/Internships (YN)  \\\n",
      "9           3.80        3.00                      N   \n",
      "11          4.00        3.00                      N   \n",
      "14          3.64        2.67                      Y   \n",
      "16          4.00        3.30                      N   \n",
      "19          4.00        3.42                      Y   \n",
      "20          4.00        3.00                      Y   \n",
      "24          4.00        3.65                      Y   \n",
      "25          4.00        3.80                      Y   \n",
      "28          4.00        3.28                      Y   \n",
      "32          3.80        3.50                      Y   \n",
      "\n",
      "    Number of contacts on Linkedin  Expected Salary after graduation  \n",
      "9                            525.0                          105000.0  \n",
      "11                           920.0                          140000.0  \n",
      "14                           550.0                          120000.0  \n",
      "16                           600.0                           88000.0  \n",
      "19                           650.0                           95000.0  \n",
      "20                           515.0                           80000.0  \n",
      "24                           700.0                          100000.0  \n",
      "25                           809.0                          120000.0  \n",
      "28                           900.0                          100000.0  \n",
      "32                           800.0                           80000.0  \n"
     ]
    }
   ],
   "source": [
    "df_filtered = df[df['Number of contacts on Linkedin'] >500]\n",
    "print(df_filtered)"
   ]
  },
  {
   "cell_type": "code",
   "execution_count": 5,
   "metadata": {
    "collapsed": false
   },
   "outputs": [
    {
     "name": "stdout",
     "output_type": "stream",
     "text": [
      "10000.0\n"
     ]
    }
   ],
   "source": [
    "Q1 = df['Expected Salary after graduation'].quantile(0.25)\n",
    "Q3 = df['Expected Salary after graduation'].quantile(0.75)\n",
    "IQR = Q3 - Q1\n",
    "print(IQR)"
   ]
  },
  {
   "cell_type": "code",
   "execution_count": null,
   "metadata": {
    "collapsed": true
   },
   "outputs": [],
   "source": []
  }
 ],
 "metadata": {
  "anaconda-cloud": {},
  "kernelspec": {
   "display_name": "Python [default]",
   "language": "python",
   "name": "python3"
  },
  "language_info": {
   "codemirror_mode": {
    "name": "ipython",
    "version": 3
   },
   "file_extension": ".py",
   "mimetype": "text/x-python",
   "name": "python",
   "nbconvert_exporter": "python",
   "pygments_lexer": "ipython3",
   "version": "3.5.2"
  }
 },
 "nbformat": 4,
 "nbformat_minor": 1
}
